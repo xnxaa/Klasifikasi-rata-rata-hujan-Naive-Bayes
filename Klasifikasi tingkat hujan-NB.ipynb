{
  "nbformat": 4,
  "nbformat_minor": 0,
  "metadata": {
    "colab": {
      "provenance": []
    },
    "kernelspec": {
      "name": "python3",
      "display_name": "Python 3"
    },
    "language_info": {
      "name": "python"
    }
  },
  "cells": [
    {
      "cell_type": "code",
      "metadata": {
        "id": "hF7-UVJm-mFi"
      },
      "source": [
        "import numpy as np \n",
        "import matplotlib.pyplot as plt\n",
        "import pandas as pd\n",
        "df = pd.read_csv('/content/data.csv')\n",
        "df"
      ],
      "execution_count": null,
      "outputs": []
    },
    {
      "cell_type": "code",
      "metadata": {
        "id": "XUjiUHO8-x1g"
      },
      "source": [
        "from sklearn.preprocessing import LabelEncoder\n",
        "label = LabelEncoder()\n",
        "df['klasifikasi'] = label.fit_transform(df['klasifikasi'].values)\n",
        "df"
      ],
      "execution_count": null,
      "outputs": []
    },
    {
      "cell_type": "code",
      "metadata": {
        "colab": {
          "base_uri": "https://localhost:8080/"
        },
        "id": "ydu8TIG9-1VK",
        "outputId": "17034f54-15ff-40b0-e71a-991054e5dc6c"
      },
      "source": [
        "x = df.iloc[:,[1,2]].values\n",
        "y = df.iloc[:, -1].values\n",
        "print(x)"
      ],
      "execution_count": null,
      "outputs": [
        {
          "output_type": "stream",
          "name": "stdout",
          "text": [
            "[[ 100   41]\n",
            " [ 100   68]\n",
            " [ 200   58]\n",
            " [1000   36]\n",
            " [ 100   33]\n",
            " [1300   48]\n",
            " [  75   32]\n",
            " [ 150   47]\n",
            " [ 100   38]\n",
            " [ 200   42]\n",
            " [ 250   37]\n",
            " [ 300   35]\n",
            " [ 200   60]\n",
            " [ 100   41]\n",
            " [ 150   45]\n",
            " [ 300   31]\n",
            " [  75   41]\n",
            " [  50   31]\n",
            " [ 100   35]\n",
            " [  50   55]\n",
            " [ 500   43]\n",
            " [ 300   41]\n",
            " [ 200  161]\n",
            " [ 100   48]\n",
            " [ 150   53]\n",
            " [  75   57]\n",
            " [  50   53]\n",
            " [ 150   35]\n",
            " [ 250   35]\n",
            " [ 100    0]\n",
            " [ 200   41]\n",
            " [ 200   38]\n",
            " [ 100   22]\n",
            " [ 150   22]\n",
            " [  75    8]\n",
            " [  50    0]\n",
            " [  50   19]\n",
            " [  75   16]\n",
            " [  50   19]\n",
            " [ 200   25]\n",
            " [ 100   27]\n",
            " [ 200   48]\n",
            " [  75   31]\n",
            " [  50   40]\n",
            " [ 200    6]\n",
            " [ 100   20]\n",
            " [ 200   38]\n",
            " [ 150   45]\n",
            " [  75   43]\n",
            " [ 100   73]\n",
            " [ 300   43]\n",
            " [ 200   36]\n",
            " [ 100   37]\n",
            " [ 200   36]\n",
            " [ 200   37]\n",
            " [ 100   64]\n",
            " [3300   41]\n",
            " [1000   67]]\n"
          ]
        }
      ]
    },
    {
      "cell_type": "code",
      "metadata": {
        "colab": {
          "base_uri": "https://localhost:8080/"
        },
        "id": "2YXAHqYN0ZhK",
        "outputId": "35026337-3851-4cdd-85e6-7d42c2a253f1"
      },
      "source": [
        "print(y)"
      ],
      "execution_count": null,
      "outputs": [
        {
          "output_type": "stream",
          "name": "stdout",
          "text": [
            "[0 0 2 1 0 2 0 1 1 1 2 2 2 0 2 2 0 0 0 0 2 2 2 0 2 0 0 1 2 0 2 1 0 1 1 1 0\n",
            " 1 0 2 0 1 1 0 0 0 1 1 1 0 2 1 1 1 2 0 2 2]\n"
          ]
        }
      ]
    },
    {
      "cell_type": "code",
      "metadata": {
        "id": "RwjCpMQb-8PO"
      },
      "source": [
        "from sklearn.model_selection import train_test_split\n",
        "x_train, x_test, y_train, y_test = train_test_split(x,y, test_size=0.25, random_state=0)"
      ],
      "execution_count": null,
      "outputs": []
    },
    {
      "cell_type": "code",
      "metadata": {
        "colab": {
          "base_uri": "https://localhost:8080/"
        },
        "id": "snFdR8ba1E6m",
        "outputId": "ca67b4ac-5e94-43dd-eb77-2e2d76b78aa2"
      },
      "source": [
        "print(x_train)"
      ],
      "execution_count": null,
      "outputs": [
        {
          "output_type": "stream",
          "name": "stdout",
          "text": [
            "[[-0.1727615   0.47226921]\n",
            " [-0.40784834 -1.89941852]\n",
            " [-0.26679624  0.39815397]\n",
            " [-0.26679624  0.24992349]\n",
            " [-0.1727615  -0.2688832 ]\n",
            " [-0.07872676 -0.49122893]\n",
            " [ 5.65739232 -0.04653748]\n",
            " [-0.36083098 -0.34299844]\n",
            " [-0.36083098 -0.49122893]\n",
            " [-0.1727615  -0.34299844]\n",
            " [-0.45486571  0.84284542]\n",
            " [ 0.01530798 -0.78768989]\n",
            " [ 1.89600276  0.47226921]\n",
            " [-0.1727615  -0.04653748]\n",
            " [-0.40784834 -0.04653748]\n",
            " [-0.36083098  2.32515026]\n",
            " [ 0.39144694  0.10169301]\n",
            " [ 0.01530798  0.10169301]\n",
            " [-0.36083098 -0.2688832 ]\n",
            " [-0.36083098 -0.04653748]\n",
            " [-0.40784834  1.13930639]\n",
            " [-0.45486571 -0.78768989]\n",
            " [-0.45486571 -0.12065272]\n",
            " [-0.1727615  -0.2688832 ]\n",
            " [-0.1727615  -0.41711369]\n",
            " [-0.45486571 -1.67707279]\n",
            " [-0.36083098  1.95457405]\n",
            " [-0.1727615   1.36165211]\n",
            " [ 1.33179433  1.88045881]\n",
            " [-0.26679624  0.84284542]\n",
            " [-0.40784834 -0.71357465]\n",
            " [-0.36083098  0.47226921]\n",
            " [-0.45486571 -1.67707279]\n",
            " [ 0.01530798 -0.04653748]\n",
            " [-0.45486571  0.99107591]\n",
            " [-0.1727615   0.02757776]\n",
            " [-0.1727615  -1.23238134]\n",
            " [-0.36083098  1.65811308]\n",
            " [ 1.33179433 -0.41711369]\n",
            " [-0.36083098 -0.04653748]\n",
            " [-0.1727615  -0.41711369]\n",
            " [-0.26679624  0.24992349]\n",
            " [-0.1727615  -2.64057094]]\n"
          ]
        }
      ]
    },
    {
      "cell_type": "code",
      "metadata": {
        "colab": {
          "base_uri": "https://localhost:8080/"
        },
        "id": "Af7ny6wp1LE-",
        "outputId": "d0b5c3a9-ee20-4cef-e00d-18adc9d091f7"
      },
      "source": [
        "print(x_test)"
      ],
      "execution_count": null,
      "outputs": [
        {
          "output_type": "stream",
          "name": "stdout",
          "text": [
            "[[-1.21428571 -0.96419223]\n",
            " [-0.85714286 -0.74670526]\n",
            " [-0.85714286 -0.12143022]\n",
            " [ 0.21428571 -0.01268674]\n",
            " [ 2.35714286 -0.01268674]\n",
            " [ 0.92857143  0.6125883 ]\n",
            " [ 0.21428571 -0.36610307]\n",
            " [-0.5        -0.42047481]\n",
            " [ 0.92857143  3.41273304]\n",
            " [-0.85714286  0.20480023]\n",
            " [-0.5        -0.06705848]\n",
            " [ 1.64285714  0.041685  ]\n",
            " [-0.5        -0.96419223]\n",
            " [-0.5        -0.23017371]\n",
            " [-0.5        -0.36610307]]\n"
          ]
        }
      ]
    },
    {
      "cell_type": "code",
      "metadata": {
        "colab": {
          "base_uri": "https://localhost:8080/"
        },
        "id": "JNaqYNPL1Y13",
        "outputId": "c3d35a52-7a76-4bdd-ea2f-a6b60cf0c44c"
      },
      "source": [
        "print(y_train)"
      ],
      "execution_count": null,
      "outputs": [
        {
          "output_type": "stream",
          "name": "stdout",
          "text": [
            "[1 1 1 2 1 2 2 1 0 2 0 2 2 2 0 0 2 2 1 0 0 0 0 1 1 0 0 2 2 2 0 0 0 2 0 1 2\n",
            " 0 1 0 1 1 0]\n"
          ]
        }
      ]
    },
    {
      "cell_type": "code",
      "metadata": {
        "colab": {
          "base_uri": "https://localhost:8080/"
        },
        "id": "tUQUdcTx1efX",
        "outputId": "a79aa65d-9776-40b3-acb5-8512185455ea"
      },
      "source": [
        "print(y_test)"
      ],
      "execution_count": null,
      "outputs": [
        {
          "output_type": "stream",
          "name": "stdout",
          "text": [
            "[1 1 1 1 2 2 1 0 2 1 0 2 0 0 0]\n"
          ]
        }
      ]
    },
    {
      "cell_type": "code",
      "metadata": {
        "colab": {
          "base_uri": "https://localhost:8080/"
        },
        "id": "cPxe0w0d_DGT",
        "outputId": "0bdcea39-fc2d-4262-ff45-df8f7abbf39b"
      },
      "source": [
        "from sklearn.preprocessing import StandardScaler\n",
        "sc = StandardScaler()\n",
        "x_train = sc.fit_transform(x_train)\n",
        "x_test =   sc.fit_transform(x_test)\n",
        "print (x_train)"
      ],
      "execution_count": null,
      "outputs": [
        {
          "output_type": "stream",
          "name": "stdout",
          "text": [
            "[[-0.1727615   0.47226921]\n",
            " [-0.40784834 -1.89941852]\n",
            " [-0.26679624  0.39815397]\n",
            " [-0.26679624  0.24992349]\n",
            " [-0.1727615  -0.2688832 ]\n",
            " [-0.07872676 -0.49122893]\n",
            " [ 5.65739232 -0.04653748]\n",
            " [-0.36083098 -0.34299844]\n",
            " [-0.36083098 -0.49122893]\n",
            " [-0.1727615  -0.34299844]\n",
            " [-0.45486571  0.84284542]\n",
            " [ 0.01530798 -0.78768989]\n",
            " [ 1.89600276  0.47226921]\n",
            " [-0.1727615  -0.04653748]\n",
            " [-0.40784834 -0.04653748]\n",
            " [-0.36083098  2.32515026]\n",
            " [ 0.39144694  0.10169301]\n",
            " [ 0.01530798  0.10169301]\n",
            " [-0.36083098 -0.2688832 ]\n",
            " [-0.36083098 -0.04653748]\n",
            " [-0.40784834  1.13930639]\n",
            " [-0.45486571 -0.78768989]\n",
            " [-0.45486571 -0.12065272]\n",
            " [-0.1727615  -0.2688832 ]\n",
            " [-0.1727615  -0.41711369]\n",
            " [-0.45486571 -1.67707279]\n",
            " [-0.36083098  1.95457405]\n",
            " [-0.1727615   1.36165211]\n",
            " [ 1.33179433  1.88045881]\n",
            " [-0.26679624  0.84284542]\n",
            " [-0.40784834 -0.71357465]\n",
            " [-0.36083098  0.47226921]\n",
            " [-0.45486571 -1.67707279]\n",
            " [ 0.01530798 -0.04653748]\n",
            " [-0.45486571  0.99107591]\n",
            " [-0.1727615   0.02757776]\n",
            " [-0.1727615  -1.23238134]\n",
            " [-0.36083098  1.65811308]\n",
            " [ 1.33179433 -0.41711369]\n",
            " [-0.36083098 -0.04653748]\n",
            " [-0.1727615  -0.41711369]\n",
            " [-0.26679624  0.24992349]\n",
            " [-0.1727615  -2.64057094]]\n"
          ]
        }
      ]
    },
    {
      "cell_type": "code",
      "metadata": {
        "colab": {
          "base_uri": "https://localhost:8080/"
        },
        "id": "kAQSumFb06_B",
        "outputId": "bbd92759-5c4b-4c0d-fb10-9ad99c9242ce"
      },
      "source": [
        "print (x_test)"
      ],
      "execution_count": null,
      "outputs": [
        {
          "output_type": "stream",
          "name": "stdout",
          "text": [
            "[[-1.21428571 -0.96419223]\n",
            " [-0.85714286 -0.74670526]\n",
            " [-0.85714286 -0.12143022]\n",
            " [ 0.21428571 -0.01268674]\n",
            " [ 2.35714286 -0.01268674]\n",
            " [ 0.92857143  0.6125883 ]\n",
            " [ 0.21428571 -0.36610307]\n",
            " [-0.5        -0.42047481]\n",
            " [ 0.92857143  3.41273304]\n",
            " [-0.85714286  0.20480023]\n",
            " [-0.5        -0.06705848]\n",
            " [ 1.64285714  0.041685  ]\n",
            " [-0.5        -0.96419223]\n",
            " [-0.5        -0.23017371]\n",
            " [-0.5        -0.36610307]]\n"
          ]
        }
      ]
    },
    {
      "cell_type": "code",
      "metadata": {
        "colab": {
          "base_uri": "https://localhost:8080/"
        },
        "id": "kzIU6yvE_JDD",
        "outputId": "6b7c5a32-4cfb-42e6-9b42-66426a68f99c"
      },
      "source": [
        "from sklearn.naive_bayes import GaussianNB\n",
        "classifier = GaussianNB()\n",
        "classifier.fit(x_train,y_train)"
      ],
      "execution_count": null,
      "outputs": [
        {
          "output_type": "execute_result",
          "data": {
            "text/plain": [
              "GaussianNB(priors=None, var_smoothing=1e-09)"
            ]
          },
          "metadata": {},
          "execution_count": 6
        }
      ]
    },
    {
      "cell_type": "code",
      "metadata": {
        "id": "4ESzyA-6_OsZ"
      },
      "source": [
        "y_pred = classifier.predict(x_test)"
      ],
      "execution_count": null,
      "outputs": []
    },
    {
      "cell_type": "code",
      "metadata": {
        "colab": {
          "base_uri": "https://localhost:8080/"
        },
        "id": "5YMZnWuc_UCN",
        "outputId": "e92eaaad-f829-4ccd-d410-5bff73a0c44e"
      },
      "source": [
        "from sklearn.metrics import confusion_matrix\n",
        "y_pred = classifier.predict(x_test)\n",
        "cm = confusion_matrix(y_test,y_pred)\n",
        "print (cm)"
      ],
      "execution_count": null,
      "outputs": [
        {
          "output_type": "stream",
          "name": "stdout",
          "text": [
            "[[5 0 0]\n",
            " [0 5 1]\n",
            " [0 0 4]]\n"
          ]
        }
      ]
    },
    {
      "cell_type": "code",
      "metadata": {
        "colab": {
          "base_uri": "https://localhost:8080/"
        },
        "id": "MY88O4X0_WcD",
        "outputId": "b7b62c58-e882-4533-fedd-ee9c03509ca4"
      },
      "source": [
        "from sklearn.metrics import classification_report\n",
        "from sklearn.metrics import accuracy_score\n",
        "\n",
        "print(classification_report(y_test, y_pred))\n",
        "akurasi=accuracy_score(y_test,y_pred)\n",
        "print(\"Tingkat Akurasi :%d persen\"%(akurasi*100))\n"
      ],
      "execution_count": null,
      "outputs": [
        {
          "output_type": "stream",
          "name": "stdout",
          "text": [
            "              precision    recall  f1-score   support\n",
            "\n",
            "           0       1.00      1.00      1.00         5\n",
            "           1       1.00      0.83      0.91         6\n",
            "           2       0.80      1.00      0.89         4\n",
            "\n",
            "    accuracy                           0.93        15\n",
            "   macro avg       0.93      0.94      0.93        15\n",
            "weighted avg       0.95      0.93      0.93        15\n",
            "\n",
            "Tingkat Akurasi :93 persen\n"
          ]
        }
      ]
    },
    {
      "cell_type": "code",
      "metadata": {
        "colab": {
          "base_uri": "https://localhost:8080/",
          "height": 367
        },
        "id": "YXg937rN0Yae",
        "outputId": "2fe79de4-986e-42ae-829b-743d0eaa120b"
      },
      "source": [
        "from matplotlib.colors import ListedColormap\n",
        "\n",
        "x_set, y_set = x_train, y_train\n",
        "x1,x2 = np.meshgrid(np.arange(start = x_set[:,0].min()-1,stop =x_set[:,0].max()+1,step=0.01),\n",
        "                    np.arange(start = x_set[:,1].min()-1,stop =x_set[:,0].max()+1,step=0.01))\n",
        "\n",
        "plt.contourf(x1,x2,classifier.predict(np.array([x1.ravel(),x2.ravel()]).T).reshape(x1.shape),alpha=0.75,cmap=ListedColormap(('red','green','blue')))      \n",
        "plt.xlim(x1.min(),x1.max())\n",
        "plt.ylim(x2.min(),x2.max())\n",
        "for i,j in enumerate (np.unique(y_test)):\n",
        "    plt.scatter(x_set[y_set==j ,0], x_set[y_set==j,1], c = ListedColormap(('red','green','blue'))(i),label=j)\n",
        "plt.title('Klasifikasi Data dengan Naive Bayes')\n",
        "plt.xlabel('Jumlah Hari Hujan 2019-2020')\n",
        "plt.ylabel('Rata-Rata Hujan 2019-2020')\n",
        "plt.legend()\n",
        "plt.show()"
      ],
      "execution_count": null,
      "outputs": [
        {
          "output_type": "stream",
          "name": "stderr",
          "text": [
            "*c* argument looks like a single numeric RGB or RGBA sequence, which should be avoided as value-mapping will have precedence in case its length matches with *x* & *y*.  Please use the *color* keyword-argument or provide a 2-D array with a single row if you intend to specify the same RGB or RGBA value for all points.\n",
            "*c* argument looks like a single numeric RGB or RGBA sequence, which should be avoided as value-mapping will have precedence in case its length matches with *x* & *y*.  Please use the *color* keyword-argument or provide a 2-D array with a single row if you intend to specify the same RGB or RGBA value for all points.\n",
            "*c* argument looks like a single numeric RGB or RGBA sequence, which should be avoided as value-mapping will have precedence in case its length matches with *x* & *y*.  Please use the *color* keyword-argument or provide a 2-D array with a single row if you intend to specify the same RGB or RGBA value for all points.\n"
          ]
        },
        {
          "output_type": "display_data",
          "data": {
            "image/png": "[encoded data removed]",
            "text/plain": [
              "<Figure size 432x288 with 1 Axes>"
            ]
          },
          "metadata": {
            "needs_background": "light"
          }
        }
      ]
    }
  ]
}